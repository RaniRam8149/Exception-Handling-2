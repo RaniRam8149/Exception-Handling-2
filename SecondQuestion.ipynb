Q2. Write a python program to print Python Exception Hierarchy.

def print_exception_hierarchy(exception_class, indent=0):
    print(' ' * indent + str(exception_class.__name__))
    for subclass in exception_class.__subclasses__():
        print_exception_hierarchy(subclass, indent + 2)

print_exception_hierarchy(BaseException)
