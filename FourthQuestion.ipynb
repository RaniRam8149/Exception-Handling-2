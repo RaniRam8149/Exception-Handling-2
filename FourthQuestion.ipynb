Q4. Why LookupError class is used? Explain with an example KeyError and IndexError.

The LookupError class in Python is a base class for exceptions that are raised when a key or index is not found. It is a subclass of the more general Exception class and serves as a base for exceptions related to lookup operations. Two common subclasses of LookupError are KeyError and IndexError.

KeyError:

KeyError is raised when a dictionary key is not found.
my_dict = {'a': 1, 'b': 2, 'c': 3}

try:
    value = my_dict['d']  
except KeyError as e:
    print(f"Error: {e}")

IndexError:

IndexError is raised when trying to access an index that is out of range in a sequence (e.g., a list or a tuple).
my_list = [1, 2, 3, 4, 5]

try:
    value = my_list[10]  
except IndexError as e:
    print(f"Error: {e}")
