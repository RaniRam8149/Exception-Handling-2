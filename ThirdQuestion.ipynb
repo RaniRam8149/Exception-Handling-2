Q3. What errors are defined in the ArithmeticError class? Explain any two with an example.
The ArithmeticError class is a base class for exceptions that are raised for various arithmetic errors. It itself is a subclass of the Exception class in Python. Two notable subclasses of ArithmeticError are ZeroDivisionError and OverflowError.

ZeroDivisionError:

This error is raised when attempting to divide a number by zero, which is mathematically undefined.
Example:
try:
    result = 10 / 0  
except ZeroDivisionError as e:
    print(f"Error: {e}")

overflowError:

This error is raised when an arithmetic operation exceeds the limits of the data type.
try:
    result = 2 ** 1000  
except OverflowError as e:
    print(f"Error: {e}")
