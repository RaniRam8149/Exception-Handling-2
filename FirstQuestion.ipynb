Q1. Explain why we have to use the Exception class while creating a Custom Exception.

Note: Here Exception class refers to the base class for all the exceptions.

When creating a custom exception in a programming language like Python, it is common to inherit from the Exception class or one of its subclasses. Here are a few reasons why using the Exception class as the base class for custom exceptions is beneficial:

Inheritance from a Common Base Class:

By inheriting from the Exception class, your custom exception becomes part of the standard exception hierarchy in the language. This hierarchy allows for a consistent and organized way to handle exceptions.
The Exception class itself is a base class for most standard exceptions in many programming languages. Using it as the base for your custom exception ensures that your exception follows the same conventions as built-in exceptions.

Compatibility with Exception Handling Mechanism:

Languages like Python have a robust exception handling mechanism that relies on catching and handling exceptions based on their types. If your custom exception is derived from the Exception class, it can be caught using the same except blocks that handle generic exceptions.
This makes it easy to integrate your custom exception into existing exception handling code.
Clear Identification as an Exception:

Inheriting from Exception makes it clear that your custom class is intended to represent an exception scenario. This helps other developers who read your code understand its purpose and how it fits into the exception-handling framework.

Consistency in Documentation and Conventions:

Following established conventions makes your code more readable and maintainable. By using the Exception class, you align your custom exception with widely accepted practices, making it easier for others to understand and work with your code.

class CustomError(Exception):
    def __init__(self, message):
        super().__init__(message)

try:
    raise CustomError("This is a custom exception.")
except CustomError as e:
    print(f"Caught an exception: {e}")
